{
 "cells": [
  {
   "cell_type": "code",
   "execution_count": null,
   "metadata": {},
   "outputs": [],
   "source": [
    "# Encounter Flow\n",
    "# 2 Actions of any type per turn\n",
    "# 1. Check if in combat (follow flow chart for combat), 2. Move to next room, 3. Use Items, 4. Use Abilities, 5. End Turn\n",
    "# Each room chooses a random event upon 1st entrance, Each room does a unique thing as a static effect while inside the room\n",
    "# Can loot each room for items a random number of times rolled on 1st entrance\n",
    "# When moving, noise check to see if monster spawns, if spawned choose from random encounter bag and resolve\n",
    "# As many small items as you want, only two big items at a time (can be dropped/picked up if needed?)\n",
    "# Objective is to turn on all generators and set self destruct/rescue people (haven't decided yet)\n",
    "# Classes and Room identifiers/events in UML\n",
    "# Enemy types: 4 tiers of increasing difficulty? Or just 4 of 1 that have separate ways to kill\n",
    "# Need to come back and start by making character + character classes. Then rooms. Then encounters and events. \n",
    "# Win condition can be saved for when the idea is more solid. Inspiration will come as I decide how hard this will be to code"
   ]
  },
  {
   "cell_type": "code",
   "execution_count": null,
   "metadata": {},
   "outputs": [
    {
     "name": "stdout",
     "output_type": "stream",
     "text": [
      "Choose your character: \n",
      "1. Engineer\n",
      "2. Overseer\n",
      "3. Scientist\n",
      "4. Security Guard\n",
      "Choose your character: \n",
      "1. Engineer\n",
      "2. Overseer\n",
      "3. Scientist\n",
      "4. Security Guard\n",
      "\n",
      "I'm sorry, you don't seem to be in our database.\n",
      "Choose your character: \n",
      "1. Engineer\n",
      "2. Overseer\n",
      "3. Scientist\n",
      "4. Security Guard\n",
      "Welcome yer the Scientist!\n"
     ]
    }
   ],
   "source": [
    "class Character_Class: #Initializing Character Classes\n",
    "    def __init__(self, name):\n",
    "        self.name = name\n",
    "\n",
    "class Character_Creator:\n",
    "    def create_character(class_name, name):\n",
    "        class_map = {\n",
    "            'Engineer' : Character_Class,\n",
    "            'Overseer' : Character_Class,\n",
    "            'Scientist' : Character_Class,\n",
    "            'Security Guard' : Character_Class\n",
    "        }\n",
    "\n",
    "        if class_name in class_map:\n",
    "            return class_map[class_name](name)\n",
    "        else:\n",
    "            print (\"This is not a supported class\")\n",
    "\n",
    "def class_pick():\n",
    "    while True: #run loop until class is chosen or user chooses to break after selecting wrong\n",
    "        print(\"Choose your character: \")\n",
    "        print(\"1. Engineer\")\n",
    "        print(\"2. Overseer\") \n",
    "        print(\"3. Scientist\") \n",
    "        print(\"4. Security Guard\")  \n",
    "\n",
    "        user_choice = (input(\"Please pick the number corresponding to your desired class: \"))\n",
    "\n",
    "        class_choices = {\n",
    "            '1': 'Engineer',\n",
    "            '2' : 'Overseer',\n",
    "            '3' : 'Scientist',\n",
    "            '4' : 'Security Guard' \n",
    "        }\n",
    "\n",
    "        if user_choice in class_choices:\n",
    "            class_name = class_choices[user_choice]\n",
    "            name = input(f\"What's your name?: \")\n",
    "            character = Character_Creator.create_character(class_name, name)\n",
    "            final_choice = input(f\"So you are {character.name} the {class_name}?\").lower()\n",
    "\n",
    "            if final_choice == 'y' or final_choice == 'yes':\n",
    "                print(f\"Welcome {character.name} the {class_name}!\")\n",
    "                break\n",
    "        else: \n",
    "            print(\"\\nI'm sorry, you don't seem to be in our database.\")\n",
    "            try_again = input(\"Would you like to try again?: \").lower()\n",
    "\n",
    "            if try_again != 'y' and try_again != 'yes':\n",
    "                print (\"Server Locking\")\n",
    "                break\n",
    "        \n",
    "class_pick()\n"
   ]
  }
 ],
 "metadata": {
  "kernelspec": {
   "display_name": "Python 3",
   "language": "python",
   "name": "python3"
  },
  "language_info": {
   "codemirror_mode": {
    "name": "ipython",
    "version": 3
   },
   "file_extension": ".py",
   "mimetype": "text/x-python",
   "name": "python",
   "nbconvert_exporter": "python",
   "pygments_lexer": "ipython3",
   "version": "3.8.10"
  }
 },
 "nbformat": 4,
 "nbformat_minor": 2
}
